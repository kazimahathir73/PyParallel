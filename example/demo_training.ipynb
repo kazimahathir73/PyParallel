{
 "cells": [
  {
   "cell_type": "code",
   "execution_count": 1,
   "metadata": {},
   "outputs": [],
   "source": [
    "import pyparallel as pp"
   ]
  },
  {
   "cell_type": "code",
   "execution_count": 2,
   "metadata": {},
   "outputs": [
    {
     "name": "stdout",
     "output_type": "stream",
     "text": [
      "TPU or GPU not available. Using CPU.\n",
      "Recommendation: No TPU or GPU detected. Using CPU with 2 cores.\n"
     ]
    }
   ],
   "source": [
    "pp.device_recommend()"
   ]
  },
  {
   "cell_type": "code",
   "execution_count": 5,
   "metadata": {},
   "outputs": [
    {
     "name": "stdout",
     "output_type": "stream",
     "text": [
      "TPU or GPU not available. Using CPU.\n",
      "GPU Details:\n",
      "  Available: False\n",
      "  Core Count: 0\n",
      "  Devices: No GPUs available\n",
      "\n",
      "TPU Details:\n",
      "  Available: False\n",
      "  Core Count: 0\n",
      "  Devices: No TPUs available\n",
      "\n",
      "CPU Details:\n",
      "  Available: True\n",
      "  Core Count: 2\n",
      "  Devices: {'Total Memory (GB)': 3.83, 'Available Memory (GB)': 0.26}\n",
      "\n"
     ]
    },
    {
     "data": {
      "text/plain": [
       "{'GPU': {'Available': False, 'Core Count': 0, 'Devices': 'No GPUs available'},\n",
       " 'TPU': {'Available': False, 'Core Count': 0, 'Devices': 'No TPUs available'},\n",
       " 'CPU': {'Available': True,\n",
       "  'Core Count': 2,\n",
       "  'Devices': {'Total Memory (GB)': 3.83, 'Available Memory (GB)': 0.26}}}"
      ]
     },
     "execution_count": 5,
     "metadata": {},
     "output_type": "execute_result"
    }
   ],
   "source": [
    "pp.device_utils.device_info()"
   ]
  },
  {
   "cell_type": "code",
   "execution_count": null,
   "metadata": {},
   "outputs": [],
   "source": []
  },
  {
   "cell_type": "code",
   "execution_count": null,
   "metadata": {},
   "outputs": [],
   "source": []
  },
  {
   "cell_type": "code",
   "execution_count": null,
   "metadata": {},
   "outputs": [],
   "source": [
    "\n",
    "config = {\n",
    "    'gradient_accumulation': 4,\n",
    "    'mixed_precision': True,\n",
    "    'gradient_clipping': 1.0,\n",
    "    'checkpointing': True,\n",
    "}\n",
    "\n",
    "train_model(\n",
    "    model=model,\n",
    "    dataloader=dataloader,\n",
    "    optimizer=optimizer,\n",
    "    loss_fn=loss_fn,\n",
    "    device=\"cuda\",\n",
    "    num_epochs=10,\n",
    "    config=config\n",
    ")\n"
   ]
  },
  {
   "cell_type": "code",
   "execution_count": null,
   "metadata": {},
   "outputs": [],
   "source": []
  },
  {
   "cell_type": "code",
   "execution_count": null,
   "metadata": {},
   "outputs": [],
   "source": []
  },
  {
   "cell_type": "code",
   "execution_count": null,
   "metadata": {},
   "outputs": [],
   "source": []
  },
  {
   "cell_type": "code",
   "execution_count": null,
   "metadata": {},
   "outputs": [],
   "source": []
  },
  {
   "cell_type": "code",
   "execution_count": null,
   "metadata": {},
   "outputs": [],
   "source": []
  },
  {
   "cell_type": "code",
   "execution_count": null,
   "metadata": {},
   "outputs": [],
   "source": []
  }
 ],
 "metadata": {
  "kernelspec": {
   "display_name": "Python 3",
   "language": "python",
   "name": "python3"
  },
  "language_info": {
   "codemirror_mode": {
    "name": "ipython",
    "version": 3
   },
   "file_extension": ".py",
   "mimetype": "text/x-python",
   "name": "python",
   "nbconvert_exporter": "python",
   "pygments_lexer": "ipython3",
   "version": "3.12.6"
  }
 },
 "nbformat": 4,
 "nbformat_minor": 2
}
